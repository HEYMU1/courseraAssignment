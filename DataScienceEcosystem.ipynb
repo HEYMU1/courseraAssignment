{
 "cells": [
  {
   "cell_type": "markdown",
   "id": "027c3aa9-496c-431f-ad3d-42bd0b78349a",
   "metadata": {},
   "source": [
    "# Data Science Tools and Ecosystem"
   ]
  },
  {
   "cell_type": "markdown",
   "id": "f65d20c5-0948-4a57-ad0f-830ffdc9e92a",
   "metadata": {},
   "source": [
    "## In this notebook, Data Science Tools and Ecosystem are summarized."
   ]
  },
  {
   "cell_type": "markdown",
   "id": "bdeb2668-6c3b-4d39-b2c2-f5810aa6091a",
   "metadata": {},
   "source": [
    "___Objectives:___\n",
    "* List popular languages for Data Science\n",
    "* List commonly used libraries used by Data Scientists\n",
    "* List Data Science Tools"
   ]
  },
  {
   "cell_type": "markdown",
   "id": "0168830d-d5a8-4db7-9d92-164f5e569fe2",
   "metadata": {},
   "source": [
    "### Some of the popular languages that Data Scientists use are:\n",
    "1. Python\n",
    "2. R\n",
    "3. Julia\n",
    "4. SQL\n",
    "5. Java"
   ]
  },
  {
   "cell_type": "markdown",
   "id": "ae369fbf-62d9-4fd9-9fc3-ac8b6c07e09a",
   "metadata": {},
   "source": [
    "### Some of the commonly used libraries used by Data Scientists include:\n",
    "1. Tenserflow\n",
    "2. Numpy\n",
    "3. Pandas\n",
    "4. Matplotlib\n",
    "5. Seaborn\n",
    "6. Scikit\n",
    "7. Keras"
   ]
  },
  {
   "cell_type": "markdown",
   "id": "6df34597-bfe6-43f0-88e1-8e8e850cfd3c",
   "metadata": {},
   "source": [
    "| Data Science Tools |\n",
    "| ------------------ |\n",
    "| Jupyter Notebook |\n",
    "| Rstudio |\n",
    "| Jupyter Lite |"
   ]
  },
  {
   "cell_type": "markdown",
   "id": "a10a5142-724d-45a4-8a90-ec1db4d5b441",
   "metadata": {},
   "source": [
    "### Below are a few examples of evaluating arithmetic expressions in Python"
   ]
  },
  {
   "cell_type": "code",
   "execution_count": 1,
   "id": "2406b409-3811-4db6-89ee-a29975e29a12",
   "metadata": {},
   "outputs": [
    {
     "name": "stdout",
     "output_type": "stream",
     "text": [
      "17\n"
     ]
    }
   ],
   "source": [
    "# This a simple expression to multiply then add integers\n",
    "print((3*4)+5)"
   ]
  },
  {
   "cell_type": "code",
   "execution_count": 4,
   "id": "d8a0f8c9-f9a6-464f-964a-a227bd0f842b",
   "metadata": {},
   "outputs": [
    {
     "name": "stdout",
     "output_type": "stream",
     "text": [
      "3.3333333333333335 hrs\n"
     ]
    }
   ],
   "source": [
    "# This will convert 200 minutes to hours by diving by 60\n",
    "a = 200\n",
    "b = a/60\n",
    "print(b,end=\"\")\n",
    "print(\" hrs\")"
   ]
  },
  {
   "cell_type": "markdown",
   "id": "5ddd7d3d-2b54-4941-86fc-c9862366a95f",
   "metadata": {},
   "source": [
    "## Author\n",
    "Hemanth Surada"
   ]
  }
 ],
 "metadata": {
  "kernelspec": {
   "display_name": "Python 3 (ipykernel)",
   "language": "python",
   "name": "python3"
  },
  "language_info": {
   "codemirror_mode": {
    "name": "ipython",
    "version": 3
   },
   "file_extension": ".py",
   "mimetype": "text/x-python",
   "name": "python",
   "nbconvert_exporter": "python",
   "pygments_lexer": "ipython3",
   "version": "3.12.2"
  }
 },
 "nbformat": 4,
 "nbformat_minor": 5
}
